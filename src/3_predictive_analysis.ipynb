{
 "cells": [
  {
   "cell_type": "markdown",
   "metadata": {},
   "source": [
    "## Import libraries and config Pandas display"
   ]
  },
  {
   "cell_type": "code",
   "execution_count": 51,
   "metadata": {},
   "outputs": [],
   "source": [
    "import numpy as np\n",
    "import pandas as pd\n",
    "import matplotlib.pyplot as plt\n",
    "import seaborn as sns\n",
    "\n",
    "import sklearn \n",
    "from sklearn.preprocessing import LabelEncoder\n",
    "from sklearn.impute import KNNImputer\n",
    "from sklearn.model_selection import train_test_split\n",
    "from sklearn.preprocessing import StandardScaler\n",
    "from sklearn.metrics import f1_score, accuracy_score, precision_score, recall_score\n",
    "from sklearn.ensemble import RandomForestRegressor\n",
    "from sklearn.model_selection import cross_val_score\n",
    "\n",
    "from sklearn.metrics import mean_squared_error, r2_score"
   ]
  },
  {
   "cell_type": "code",
   "execution_count": 2,
   "metadata": {},
   "outputs": [],
   "source": [
    "pd.options.display.max_columns = 25\n",
    "pd.options.display.max_rows = 100"
   ]
  },
  {
   "cell_type": "markdown",
   "metadata": {},
   "source": [
    "## Import datasets"
   ]
  },
  {
   "cell_type": "code",
   "execution_count": 3,
   "metadata": {},
   "outputs": [
    {
     "data": {
      "text/html": [
       "<div>\n",
       "<style scoped>\n",
       "    .dataframe tbody tr th:only-of-type {\n",
       "        vertical-align: middle;\n",
       "    }\n",
       "\n",
       "    .dataframe tbody tr th {\n",
       "        vertical-align: top;\n",
       "    }\n",
       "\n",
       "    .dataframe thead th {\n",
       "        text-align: right;\n",
       "    }\n",
       "</style>\n",
       "<table border=\"1\" class=\"dataframe\">\n",
       "  <thead>\n",
       "    <tr style=\"text-align: right;\">\n",
       "      <th></th>\n",
       "      <th>CustomerID</th>\n",
       "      <th>OrderID</th>\n",
       "      <th>CustomerSegment</th>\n",
       "      <th>Date</th>\n",
       "      <th>ZipCode</th>\n",
       "      <th>State</th>\n",
       "      <th>Sales2008</th>\n",
       "      <th>Sales2009</th>\n",
       "      <th>Sales2010</th>\n",
       "      <th>SaleAmount</th>\n",
       "      <th>Orders2008</th>\n",
       "      <th>Orders2009</th>\n",
       "      <th>Orders2010</th>\n",
       "      <th>YearAcquired</th>\n",
       "      <th>EmailSubscr</th>\n",
       "      <th>NewsletterSubscr</th>\n",
       "      <th>WinemakerCallSubscr</th>\n",
       "      <th>Division</th>\n",
       "      <th>Region</th>\n",
       "      <th>Channel</th>\n",
       "    </tr>\n",
       "  </thead>\n",
       "  <tbody>\n",
       "    <tr>\n",
       "      <th>0</th>\n",
       "      <td>1</td>\n",
       "      <td>1532</td>\n",
       "      <td>High Roller</td>\n",
       "      <td>2008-07-08</td>\n",
       "      <td>33467</td>\n",
       "      <td>FL</td>\n",
       "      <td>213.0</td>\n",
       "      <td>30903.1</td>\n",
       "      <td>13340.94</td>\n",
       "      <td>44.0</td>\n",
       "      <td>4</td>\n",
       "      <td>8</td>\n",
       "      <td>4</td>\n",
       "      <td>2008</td>\n",
       "      <td>True</td>\n",
       "      <td>True</td>\n",
       "      <td>True</td>\n",
       "      <td>South Atlantic</td>\n",
       "      <td>South</td>\n",
       "      <td>TastingRoom</td>\n",
       "    </tr>\n",
       "    <tr>\n",
       "      <th>1</th>\n",
       "      <td>1</td>\n",
       "      <td>14378</td>\n",
       "      <td>High Roller</td>\n",
       "      <td>2008-10-05</td>\n",
       "      <td>33467</td>\n",
       "      <td>FL</td>\n",
       "      <td>213.0</td>\n",
       "      <td>30903.1</td>\n",
       "      <td>13340.94</td>\n",
       "      <td>47.0</td>\n",
       "      <td>4</td>\n",
       "      <td>8</td>\n",
       "      <td>4</td>\n",
       "      <td>2008</td>\n",
       "      <td>True</td>\n",
       "      <td>True</td>\n",
       "      <td>True</td>\n",
       "      <td>South Atlantic</td>\n",
       "      <td>South</td>\n",
       "      <td>TastingRoom</td>\n",
       "    </tr>\n",
       "    <tr>\n",
       "      <th>2</th>\n",
       "      <td>1</td>\n",
       "      <td>17690</td>\n",
       "      <td>High Roller</td>\n",
       "      <td>2008-10-26</td>\n",
       "      <td>33467</td>\n",
       "      <td>FL</td>\n",
       "      <td>213.0</td>\n",
       "      <td>30903.1</td>\n",
       "      <td>13340.94</td>\n",
       "      <td>57.0</td>\n",
       "      <td>4</td>\n",
       "      <td>8</td>\n",
       "      <td>4</td>\n",
       "      <td>2008</td>\n",
       "      <td>True</td>\n",
       "      <td>True</td>\n",
       "      <td>True</td>\n",
       "      <td>South Atlantic</td>\n",
       "      <td>South</td>\n",
       "      <td>Newsletter</td>\n",
       "    </tr>\n",
       "    <tr>\n",
       "      <th>3</th>\n",
       "      <td>1</td>\n",
       "      <td>19808</td>\n",
       "      <td>High Roller</td>\n",
       "      <td>2008-11-08</td>\n",
       "      <td>33467</td>\n",
       "      <td>FL</td>\n",
       "      <td>213.0</td>\n",
       "      <td>30903.1</td>\n",
       "      <td>13340.94</td>\n",
       "      <td>65.0</td>\n",
       "      <td>4</td>\n",
       "      <td>8</td>\n",
       "      <td>4</td>\n",
       "      <td>2008</td>\n",
       "      <td>True</td>\n",
       "      <td>True</td>\n",
       "      <td>True</td>\n",
       "      <td>South Atlantic</td>\n",
       "      <td>South</td>\n",
       "      <td>TastingRoom</td>\n",
       "    </tr>\n",
       "    <tr>\n",
       "      <th>4</th>\n",
       "      <td>1</td>\n",
       "      <td>25406</td>\n",
       "      <td>High Roller</td>\n",
       "      <td>2009-01-02</td>\n",
       "      <td>33467</td>\n",
       "      <td>FL</td>\n",
       "      <td>213.0</td>\n",
       "      <td>30903.1</td>\n",
       "      <td>13340.94</td>\n",
       "      <td>3889.0</td>\n",
       "      <td>4</td>\n",
       "      <td>8</td>\n",
       "      <td>4</td>\n",
       "      <td>2008</td>\n",
       "      <td>True</td>\n",
       "      <td>True</td>\n",
       "      <td>True</td>\n",
       "      <td>South Atlantic</td>\n",
       "      <td>South</td>\n",
       "      <td>TastingRoom</td>\n",
       "    </tr>\n",
       "  </tbody>\n",
       "</table>\n",
       "</div>"
      ],
      "text/plain": [
       "   CustomerID  OrderID CustomerSegment        Date  ZipCode State  Sales2008  \\\n",
       "0           1     1532     High Roller  2008-07-08    33467    FL      213.0   \n",
       "1           1    14378     High Roller  2008-10-05    33467    FL      213.0   \n",
       "2           1    17690     High Roller  2008-10-26    33467    FL      213.0   \n",
       "3           1    19808     High Roller  2008-11-08    33467    FL      213.0   \n",
       "4           1    25406     High Roller  2009-01-02    33467    FL      213.0   \n",
       "\n",
       "   Sales2009  Sales2010  SaleAmount  Orders2008  Orders2009  Orders2010  \\\n",
       "0    30903.1   13340.94        44.0           4           8           4   \n",
       "1    30903.1   13340.94        47.0           4           8           4   \n",
       "2    30903.1   13340.94        57.0           4           8           4   \n",
       "3    30903.1   13340.94        65.0           4           8           4   \n",
       "4    30903.1   13340.94      3889.0           4           8           4   \n",
       "\n",
       "   YearAcquired  EmailSubscr  NewsletterSubscr  WinemakerCallSubscr  \\\n",
       "0          2008         True              True                 True   \n",
       "1          2008         True              True                 True   \n",
       "2          2008         True              True                 True   \n",
       "3          2008         True              True                 True   \n",
       "4          2008         True              True                 True   \n",
       "\n",
       "         Division Region      Channel  \n",
       "0  South Atlantic  South  TastingRoom  \n",
       "1  South Atlantic  South  TastingRoom  \n",
       "2  South Atlantic  South   Newsletter  \n",
       "3  South Atlantic  South  TastingRoom  \n",
       "4  South Atlantic  South  TastingRoom  "
      ]
     },
     "execution_count": 3,
     "metadata": {},
     "output_type": "execute_result"
    }
   ],
   "source": [
    "winery = pd.read_csv(\"../data/Winery_Data_Clean.csv\")\n",
    "winery.head()"
   ]
  },
  {
   "cell_type": "code",
   "execution_count": 4,
   "metadata": {},
   "outputs": [
    {
     "data": {
      "text/html": [
       "<div>\n",
       "<style scoped>\n",
       "    .dataframe tbody tr th:only-of-type {\n",
       "        vertical-align: middle;\n",
       "    }\n",
       "\n",
       "    .dataframe tbody tr th {\n",
       "        vertical-align: top;\n",
       "    }\n",
       "\n",
       "    .dataframe thead th {\n",
       "        text-align: right;\n",
       "    }\n",
       "</style>\n",
       "<table border=\"1\" class=\"dataframe\">\n",
       "  <thead>\n",
       "    <tr style=\"text-align: right;\">\n",
       "      <th></th>\n",
       "      <th>CustomerID</th>\n",
       "      <th>OrderVolume</th>\n",
       "      <th>CustomerSegment</th>\n",
       "      <th>ZipCode</th>\n",
       "      <th>State</th>\n",
       "      <th>SaleAmount</th>\n",
       "      <th>YearAcquired</th>\n",
       "      <th>EmailSubscr</th>\n",
       "      <th>NewsletterSubscr</th>\n",
       "      <th>WinemakerCallSubscr</th>\n",
       "      <th>Division</th>\n",
       "      <th>Region</th>\n",
       "    </tr>\n",
       "  </thead>\n",
       "  <tbody>\n",
       "    <tr>\n",
       "      <th>0</th>\n",
       "      <td>1</td>\n",
       "      <td>16</td>\n",
       "      <td>High Roller</td>\n",
       "      <td>33467</td>\n",
       "      <td>FL</td>\n",
       "      <td>44457.05</td>\n",
       "      <td>2008</td>\n",
       "      <td>True</td>\n",
       "      <td>True</td>\n",
       "      <td>True</td>\n",
       "      <td>South Atlantic</td>\n",
       "      <td>South</td>\n",
       "    </tr>\n",
       "    <tr>\n",
       "      <th>1</th>\n",
       "      <td>2</td>\n",
       "      <td>9</td>\n",
       "      <td>High Roller</td>\n",
       "      <td>98683</td>\n",
       "      <td>WA</td>\n",
       "      <td>42201.67</td>\n",
       "      <td>2009</td>\n",
       "      <td>False</td>\n",
       "      <td>True</td>\n",
       "      <td>True</td>\n",
       "      <td>Pacific</td>\n",
       "      <td>West</td>\n",
       "    </tr>\n",
       "    <tr>\n",
       "      <th>2</th>\n",
       "      <td>3</td>\n",
       "      <td>8</td>\n",
       "      <td>High Roller</td>\n",
       "      <td>90247</td>\n",
       "      <td>CA</td>\n",
       "      <td>28393.50</td>\n",
       "      <td>2005</td>\n",
       "      <td>True</td>\n",
       "      <td>True</td>\n",
       "      <td>True</td>\n",
       "      <td>Pacific</td>\n",
       "      <td>West</td>\n",
       "    </tr>\n",
       "    <tr>\n",
       "      <th>3</th>\n",
       "      <td>4</td>\n",
       "      <td>7</td>\n",
       "      <td>Wine Enthusiast</td>\n",
       "      <td>4572</td>\n",
       "      <td>ME</td>\n",
       "      <td>23571.14</td>\n",
       "      <td>2008</td>\n",
       "      <td>True</td>\n",
       "      <td>True</td>\n",
       "      <td>True</td>\n",
       "      <td>New England</td>\n",
       "      <td>Northeast</td>\n",
       "    </tr>\n",
       "    <tr>\n",
       "      <th>4</th>\n",
       "      <td>5</td>\n",
       "      <td>5</td>\n",
       "      <td>Casual Visitor</td>\n",
       "      <td>98042</td>\n",
       "      <td>WA</td>\n",
       "      <td>20631.10</td>\n",
       "      <td>2008</td>\n",
       "      <td>False</td>\n",
       "      <td>False</td>\n",
       "      <td>False</td>\n",
       "      <td>Pacific</td>\n",
       "      <td>West</td>\n",
       "    </tr>\n",
       "  </tbody>\n",
       "</table>\n",
       "</div>"
      ],
      "text/plain": [
       "   CustomerID  OrderVolume  CustomerSegment  ZipCode State  SaleAmount  \\\n",
       "0           1           16      High Roller    33467    FL    44457.05   \n",
       "1           2            9      High Roller    98683    WA    42201.67   \n",
       "2           3            8      High Roller    90247    CA    28393.50   \n",
       "3           4            7  Wine Enthusiast     4572    ME    23571.14   \n",
       "4           5            5   Casual Visitor    98042    WA    20631.10   \n",
       "\n",
       "   YearAcquired  EmailSubscr  NewsletterSubscr  WinemakerCallSubscr  \\\n",
       "0          2008         True              True                 True   \n",
       "1          2009        False              True                 True   \n",
       "2          2005         True              True                 True   \n",
       "3          2008         True              True                 True   \n",
       "4          2008        False             False                False   \n",
       "\n",
       "         Division     Region  \n",
       "0  South Atlantic      South  \n",
       "1         Pacific       West  \n",
       "2         Pacific       West  \n",
       "3     New England  Northeast  \n",
       "4         Pacific       West  "
      ]
     },
     "execution_count": 4,
     "metadata": {},
     "output_type": "execute_result"
    }
   ],
   "source": [
    "customer = pd.read_csv(\"../data/Winery_Customer.csv\")\n",
    "customer.head()"
   ]
  },
  {
   "cell_type": "code",
   "execution_count": 10,
   "metadata": {},
   "outputs": [
    {
     "data": {
      "text/plain": [
       "CustomerID               int64\n",
       "OrderVolume              int64\n",
       "CustomerSegment         object\n",
       "ZipCode                  int64\n",
       "State                   object\n",
       "SaleAmount             float64\n",
       "YearAcquired             int64\n",
       "EmailSubscr               bool\n",
       "NewsletterSubscr          bool\n",
       "WinemakerCallSubscr       bool\n",
       "Division                object\n",
       "Region                  object\n",
       "dtype: object"
      ]
     },
     "execution_count": 10,
     "metadata": {},
     "output_type": "execute_result"
    }
   ],
   "source": [
    "customer.dtypes"
   ]
  },
  {
   "cell_type": "markdown",
   "metadata": {},
   "source": [
    "## Predictive Models"
   ]
  },
  {
   "cell_type": "markdown",
   "metadata": {},
   "source": [
    "### Binary Classification"
   ]
  },
  {
   "cell_type": "markdown",
   "metadata": {},
   "source": [
    "#### Random Forest"
   ]
  },
  {
   "cell_type": "code",
   "execution_count": 33,
   "metadata": {},
   "outputs": [
    {
     "data": {
      "text/plain": [
       "pandas.core.frame.DataFrame"
      ]
     },
     "execution_count": 33,
     "metadata": {},
     "output_type": "execute_result"
    }
   ],
   "source": [
    "y = customer.loc[:, \"EmailSubscr\"].values\n",
    "X = customer.loc[:, [\"OrderVolume\", \"CustomerSegment\", \"Region\", \"SaleAmount\", \"NewsletterSubscr\", \"WinemakerCallSubscr\"]]\n"
   ]
  },
  {
   "cell_type": "code",
   "execution_count": 38,
   "metadata": {},
   "outputs": [
    {
     "name": "stdout",
     "output_type": "stream",
     "text": [
      "17579 4395 17579 4395\n"
     ]
    }
   ],
   "source": [
    "### TODO: manually define categorical encoding\n",
    "\n",
    "label_encoder = LabelEncoder()\n",
    "x_categorical = X.select_dtypes(include=['object', 'bool']).apply(label_encoder.fit_transform)\n",
    "# x_categorical\n",
    "\n",
    "x_numerical = X.select_dtypes(exclude=['object', 'bool']).values\n",
    "# x_numerical\n",
    "\n",
    "x = pd.concat([pd.DataFrame(x_numerical), x_categorical], axis='columns').values\n",
    "# print(type(x))\n",
    "\n",
    "X_train, X_test, Y_train, Y_test = train_test_split(x, y, test_size=0.2, random_state=0)\n",
    "\n",
    "print(len(X_train), len(X_test), len(Y_train), len(Y_test))\n",
    "\n"
   ]
  },
  {
   "cell_type": "code",
   "execution_count": 53,
   "metadata": {},
   "outputs": [
    {
     "name": "stdout",
     "output_type": "stream",
     "text": [
      "OrderVolume: 0.0398\n",
      "CustomerSegment: 0.0983\n",
      "Region: 0.0294\n",
      "SaleAmount: 0.0198\n",
      "NewsletterSubscr: 0.1271\n",
      "WinemakerCallSubscr: 0.6856\n",
      "Acc 0.9342434584755404 Prec 0.8813892529488859 Rec 0.925671025464556 f1 0.9029875797247399\n"
     ]
    }
   ],
   "source": [
    "regressor = RandomForestRegressor(random_state=0)\n",
    "regressor.fit(X_train, Y_train)\n",
    "\n",
    "predictions = regressor.predict(X_test)\n",
    "r2 = r2_score(Y_test, predictions)\n",
    "\n",
    "feature_importances = regressor.feature_importances_\n",
    "\n",
    "for feature, importance in zip([\"OrderVolume\", \"CustomerSegment\", \"Region\", \"SaleAmount\", \"NewsletterSubscr\", \"WinemakerCallSubscr\"]\n",
    "                               , feature_importances):\n",
    "    print(f\"{feature}: {importance:.4f}\")\n",
    "\n",
    "accuracy = accuracy_score(Y_test, np.round(predictions))\n",
    "precision = precision_score(Y_test, np.round(predictions))\n",
    "recall = recall_score(Y_test, np.round(predictions))\n",
    "f1score = f1_score(Y_test, np.round(predictions))\n",
    "\n",
    "print(\"Acc\", accuracy, \"Prec\", precision, \"Rec\", recall, \"f1\", f1score)"
   ]
  },
  {
   "cell_type": "code",
   "execution_count": 49,
   "metadata": {},
   "outputs": [
    {
     "name": "stdout",
     "output_type": "stream",
     "text": [
      "[False  True False ... False  True  True]\n",
      "[0. 1. 0. ... 0. 1. 1.]\n"
     ]
    }
   ],
   "source": [
    "print(Y_test)\n",
    "print(np.round(predictions))\n"
   ]
  },
  {
   "cell_type": "markdown",
   "metadata": {},
   "source": [
    "### Multinomial Classification"
   ]
  }
 ],
 "metadata": {
  "kernelspec": {
   "display_name": "winery-project",
   "language": "python",
   "name": "python3"
  },
  "language_info": {
   "codemirror_mode": {
    "name": "ipython",
    "version": 3
   },
   "file_extension": ".py",
   "mimetype": "text/x-python",
   "name": "python",
   "nbconvert_exporter": "python",
   "pygments_lexer": "ipython3",
   "version": "3.11.7"
  }
 },
 "nbformat": 4,
 "nbformat_minor": 2
}
